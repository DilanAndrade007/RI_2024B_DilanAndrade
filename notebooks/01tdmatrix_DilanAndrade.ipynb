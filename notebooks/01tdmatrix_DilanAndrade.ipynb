{
 "cells": [
  {
   "cell_type": "markdown",
   "id": "7266022d411c887f",
   "metadata": {
    "tags": []
   },
   "source": [
    "# Ejercicio 01: Recuperación de Información Basado en el Modelo de Matriz Término-Documento\n",
    "\n",
    "En este ejercicio, trabajaremos con un corpus de documentos en formato JSON para implementar un sistema de Recuperación de Información basado en el modelo de espacio vectorial. Seguirás los siguientes pasos:"
   ]
  },
  {
   "cell_type": "markdown",
   "id": "b20440e0de103cf3",
   "metadata": {},
   "source": [
    "## Paso 1: Determinar un vocabulario\n",
    "El primer paso es cargar el corpus en formato JSON, extraer los textos de los documentos y crear el vocabulario."
   ]
  },
  {
   "cell_type": "code",
   "execution_count": 34,
   "id": "initial_id",
   "metadata": {
    "ExecuteTime": {
     "end_time": "2024-10-22T12:22:34.639750Z",
     "start_time": "2024-10-22T12:22:34.631518Z"
    },
    "tags": []
   },
   "outputs": [],
   "source": [
    "import json  # Importa el módulo json para trabajar con datos en JSON.\n",
    "\n",
    "# Inicializa una lista vacía para almacenar los datos que se cargarán desde el archivo JSON.\n",
    "datos = []\n",
    "\n",
    "# Abre el archivo JSON en modo lectura ('r') con la codificación UTF-8 \"español\".\n",
    "# 'file' es donde vamos a guardar.\n",
    "with open(file='../data/01tdmatrix_corpus.json', mode='r', encoding='utf-8') as file:\n",
    "    # Carga el contenido del archivo JSON en la variable 'datos' utilizando json.load().\n",
    "    # utilizamos la funcion anterior para poder guardarlo como una lista de diccionarios.\n",
    "    datos = json.load(file)\n",
    "# Ahora, 'datos' contiene los datos del archivo JSON en formato de una lista de diccionarios."
   ]
  },
  {
   "cell_type": "markdown",
   "id": "a82e1d76-530d-44af-8a57-462fe93a5b7a",
   "metadata": {},
   "source": [
    "### Imprimir el texto\n",
    "Hacemos pruebas para comprobar las funciones que utilizamos"
   ]
  },
  {
   "cell_type": "code",
   "execution_count": 37,
   "id": "1cad34a871eac562",
   "metadata": {
    "ExecuteTime": {
     "end_time": "2024-10-22T12:28:42.503285Z",
     "start_time": "2024-10-22T12:28:42.487436Z"
    },
    "tags": []
   },
   "outputs": [
    {
     "name": "stdout",
     "output_type": "stream",
     "text": [
      "la inteligencia artificial continúa avanzando rápidamente, transformando sectores como la salud y las finanzas. las empresas están adoptando algoritmos de aprendizaje automático para mejorar la eficiencia. sin embargo, el desafío principal sigue siendo garantizar que las decisiones basadas en datos sean justas y no perpetúen sesgos. la ética es fundamental en este contexto.\n"
     ]
    }
   ],
   "source": [
    "# Imprime el texto usando la clave \"text\" del primer elemento del diccionario de 'datos' en minúsculas.\n",
    "print(datos[0]['text'].lower()) # La función lower() convierte el texto a minúsculas."
   ]
  },
  {
   "cell_type": "code",
   "execution_count": 39,
   "id": "0d905716-c8a5-4e23-a1cf-6b1eeda76a82",
   "metadata": {
    "ExecuteTime": {
     "end_time": "2024-10-22T12:29:11.334724Z",
     "start_time": "2024-10-22T12:29:11.319181Z"
    },
    "tags": []
   },
   "outputs": [
    {
     "name": "stdout",
     "output_type": "stream",
     "text": [
      "['la', 'inteligencia', 'artificial', 'continúa', 'avanzando', 'rápidamente,', 'transformando', 'sectores', 'como', 'la', 'salud', 'y', 'las', 'finanzas.', 'las', 'empresas', 'están', 'adoptando', 'algoritmos', 'de', 'aprendizaje', 'automático', 'para', 'mejorar', 'la', 'eficiencia.', 'sin', 'embargo,', 'el', 'desafío', 'principal', 'sigue', 'siendo', 'garantizar', 'que', 'las', 'decisiones', 'basadas', 'en', 'datos', 'sean', 'justas', 'y', 'no', 'perpetúen', 'sesgos.', 'la', 'ética', 'es', 'fundamental', 'en', 'este', 'contexto.']\n"
     ]
    }
   ],
   "source": [
    "print(datos[0]['text'].lower().split())# la función split() divide el texto en palabras, devolviendo una lista de palabras."
   ]
  },
  {
   "cell_type": "markdown",
   "id": "d6d2d9ac-4e80-452a-b4af-a0ba94596e37",
   "metadata": {},
   "source": [
    "### Creación de vocabulario\n",
    "Usando las funciones antes vistas creamos el vocabulario primero de un documento y despues de todo el corpus"
   ]
  },
  {
   "cell_type": "code",
   "execution_count": 42,
   "id": "63b4fbc92a3a663d",
   "metadata": {
    "ExecuteTime": {
     "end_time": "2024-10-22T12:29:44.074040Z",
     "start_time": "2024-10-22T12:29:44.059539Z"
    },
    "tags": []
   },
   "outputs": [
    {
     "name": "stdout",
     "output_type": "stream",
     "text": [
      "{'salud', 'y', 'mejorar', 'la', 'sin', 'desafío', 'embargo,', 'rápidamente,', 'sectores', 'adoptando', 'sean', 'es', 'este', 'aprendizaje', 'como', 'continúa', 'transformando', 'automático', 'garantizar', 'las', 'que', 'el', 'basadas', 'inteligencia', 'sesgos.', 'para', 'finanzas.', 'datos', 'perpetúen', 'avanzando', 'justas', 'fundamental', 'no', 'decisiones', 'de', 'ética', 'principal', 'están', 'artificial', 'siendo', 'contexto.', 'sigue', 'empresas', 'eficiencia.', 'en', 'algoritmos'}\n",
      "46\n"
     ]
    }
   ],
   "source": [
    "# Creamos un conjunto \"vocab\" de palabras únicas del texto del primer elemento de la lista datos.\n",
    "vocab = set(datos[0]['text'].lower().split())# Con (set)se eliminan las duplicaciones, quedando solo palabras únicas.\n",
    "print(vocab) #Imprimimos el vocabulario\n",
    "print(len(vocab)) #imprimimos el tamaño del vocabulario del primer texto"
   ]
  },
  {
   "cell_type": "code",
   "execution_count": 44,
   "id": "5eded2ae4aeba3e2",
   "metadata": {
    "ExecuteTime": {
     "end_time": "2024-10-22T12:36:39.293698Z",
     "start_time": "2024-10-22T12:36:39.280871Z"
    },
    "tags": []
   },
   "outputs": [
    {
     "name": "stdout",
     "output_type": "stream",
     "text": [
      "230\n",
      "{'consume', 'vez', 'géneros', 'tecnológicos', 'consumidores', 'personalizados', 'millones', 'desafío', 'habilidades', 'tecnologías', 'rápidos', 'trabajos', 'desafían', 'realistas', 'todo', 'competencias', 'compramos', 'además', 'a', 'ubicación', 'alcanzado', 'populares', 'pueden', 'distancia', 'atraen', 'especialmente', 'permitiendo', 'con', 'educativa', 'presencial', 'compras', 'datos', 'perpetúen', 'estudiantes', 'avanzando', 'impulsa', 'películas', 'fundamental', 'recomendaciones', 'enfermedades', 'hasta', 'nivel', 'realidad', 'herramientas', 'mayores', 'espectadores', 'completo', 'literarios', 'evolucionado', 'implicaciones', 'hábitos', 'crecimiento', 'accesibles', 'individual', 'personal', 'desarrollo', 'cambiado', 'muchas', 'cómo', 'enfoque', 'libros', 'mejorar', 'eficaces', 'contexto', 'educación', 'bienestar', 'pagos', 'aunque', 'adoptando', 'sean', 'experiencia', 'temas', 'vida', 'es', 'este', 'avances', 'automático', 'transformando', 'garantizar', 'optimizando', 'las', 'digitales', 'solo', 'saludables', 'series', 'promueven', 'producciones', 'mundos', 'convertido', 'buscan', 'streaming', 'transformado', 'inmersivos', 'tiempo', 'justas', 'avanzadas', 'público', 'años', 'llevado', 'contenido', 'sino', 'decisiones', 'videojuegos', 'entretiene', 'ética', 'prometedor', 'electrónico', 'aquellos', 'siendo', 'mejores', 'ha', 'sigue', 'futuro', 'su', 'en', 'cada', 'nuevo', 'interactuar', 'sesgos', 'crear', 'salud', 'incorporando', 'invita', 'real', 'aumento', 'monitorean', 'está', 'finanzas', 'mercado', 'sectores', 'siguen', 'adopción', 'médicos', 'utilizan', 'ofrecer', 'diarias', 'personas', 'como', 'continúa', 'que', 'comercio', 'telemedicina', 'el', 'beneficios', 'experiencias', 'cinematográficas', 'tratamientos', 'personalizadas', 'integral', 'para', 'calidad', 'eficiencia', 'embargo', 'planetas', 'profesionales', 'cursos', 'no', 'portátiles', 'ciencia', 'se', 'usuario', 'de', 'principal', 'e-sports', 'ficción', 'transacciones', 'facilitando', 'viaje', 'línea', 'ahora', 'escenas', 'democratizando', 'forma', 'nuevas', 'importar', 'más', 'empresas', 'medicina', 'algoritmos', 'cuidados', 'donde', 'acceder', 'otros', 'y', 'la', 'humanidad', 'tratan', 'cuándo', 'sin', 'explorando', 'prioridad', 'falta', 'aprendizaje', 'demanda', 'acceso', 'basadas', 'efectos', 'inteligencia', 'los', 'una', 'también', 'flexibilidad', 'sus', 'diagnostican', 'rápidamente', 'desde', 'visuales', 'tecnología', 'cine', 'un', 'virtuales', 'reto', 'género', 'sobre', 'plataformas', 'dispositivos', 'están', 'aumentada', 'programas', 'artificial', 'aplicaciones', 'permitido', 'reflexionar', 'mejorando', 'cambiando', 'interacción', 'uno', 'creciente', 'mundo', 'jugadores'}\n"
     ]
    }
   ],
   "source": [
    "#Creamos una vocabulario de todo el corpus\n",
    "vocab = [] # Inicializamos una lista vacía para almacenar todas las palabras del corpus\n",
    "for i in range(0,len(datos)):#Recorremos sobre todos los documentos de datos\n",
    "     # Creamos un conjunto de palabras en 'vocab' con palabras de cada documento, eliminando comas y puntos\n",
    "    vocab.extend(datos[i]['text'].lower().replace(',','').replace('.','').split()) #Utilizamos replace para eliminar puntos y comas\n",
    "\n",
    "vocab = set(vocab)# Convertir la lista de vocabulario en un conjunto para eliminar duplicados\n",
    "print(len(vocab)) #Imprimimos el numero de elementos en vocab\n",
    "print(vocab)#Imprimimos el conjuento vocab"
   ]
  },
  {
   "cell_type": "markdown",
   "id": "549d0d8b6f7ed0a2",
   "metadata": {},
   "source": [
    "## Paso 2: Calcular una matriz término-documento\n",
    "Una vez que tenemos el vocabulario, el siguiente paso es construir una **matriz término-documento**, que nos permitirá representar cada documento como un vector en el espacio de términos."
   ]
  },
  {
   "cell_type": "code",
   "execution_count": 47,
   "id": "4b35c2996c774ec2",
   "metadata": {
    "ExecuteTime": {
     "end_time": "2024-10-22T13:00:04.977448Z",
     "start_time": "2024-10-22T13:00:04.961452Z"
    },
    "tags": []
   },
   "outputs": [],
   "source": [
    "def tdtransform(text):#Función que recibe un texto para poder transformarlo a un vextor binario de acuerdo al vocabulario\n",
    "    doc = []#Creamos una lista para almacenar el documento binario\n",
    "    for word in vocab: #Iteramos sobre cada palabra del documento\n",
    "        if word in text.lower().replace(',','').replace('.','').split(): # Cambiamos cada palabra del texto en minúsculas y verificamos que este sin comas ni puntos)\n",
    "           doc.append(1)# Agregamos 1 si la palabra está presente\n",
    "        else:\n",
    "            doc.append(0)# Agrega 0 si la palabra no está presente\n",
    "    return doc # Devuelve el vector binario del texto"
   ]
  },
  {
   "cell_type": "markdown",
   "id": "626243b8-0e56-4dea-9d3b-f60444a04d0f",
   "metadata": {},
   "source": [
    "Uso de la funcion para  tdtransform para crear la matriz término-documentos "
   ]
  },
  {
   "cell_type": "code",
   "execution_count": 49,
   "id": "1b052a6cd19731a5",
   "metadata": {
    "ExecuteTime": {
     "end_time": "2024-10-22T13:00:30.419629Z",
     "start_time": "2024-10-22T13:00:30.382836Z"
    },
    "tags": []
   },
   "outputs": [
    {
     "name": "stdout",
     "output_type": "stream",
     "text": [
      "[[0, 0, 0, 0, 0, 0, 0, 1, 0, 0, 0, 0, 0, 0, 0, 0, 0, 0, 0, 0, 0, 0, 0, 0, 0, 0, 0, 0, 0, 0, 0, 1, 1, 0, 1, 0, 0, 1, 0, 0, 0, 0, 0, 0, 0, 0, 0, 0, 0, 0, 0, 0, 0, 0, 0, 0, 0, 0, 0, 0, 0, 1, 0, 1, 0, 0, 0, 0, 1, 1, 0, 0, 0, 1, 1, 0, 1, 1, 1, 0, 1, 0, 0, 0, 0, 0, 0, 0, 0, 0, 0, 0, 0, 0, 1, 0, 0, 0, 0, 0, 0, 1, 0, 0, 1, 0, 0, 0, 1, 0, 0, 1, 0, 0, 1, 0, 0, 0, 1, 0, 1, 0, 0, 0, 0, 0, 0, 1, 0, 1, 0, 0, 0, 0, 0, 0, 0, 1, 1, 1, 0, 0, 1, 0, 0, 0, 0, 0, 0, 1, 0, 1, 1, 0, 0, 0, 1, 0, 0, 0, 0, 1, 1, 0, 0, 0, 0, 0, 0, 0, 0, 0, 0, 0, 0, 0, 1, 0, 1, 0, 0, 0, 0, 1, 1, 0, 0, 0, 1, 0, 0, 0, 1, 0, 0, 1, 0, 1, 0, 0, 0, 0, 0, 0, 1, 0, 0, 0, 0, 0, 0, 0, 0, 0, 0, 0, 1, 0, 0, 1, 0, 0, 0, 0, 0, 0, 0, 0, 0, 0], [0, 0, 0, 0, 0, 0, 1, 0, 0, 1, 0, 0, 0, 0, 1, 1, 0, 0, 1, 0, 1, 0, 1, 0, 1, 0, 0, 1, 0, 0, 0, 0, 0, 0, 0, 1, 0, 0, 0, 0, 0, 1, 1, 0, 0, 1, 0, 0, 0, 0, 0, 1, 0, 0, 0, 1, 0, 0, 0, 0, 0, 0, 0, 0, 0, 0, 0, 0, 0, 0, 0, 0, 0, 0, 1, 0, 0, 0, 0, 0, 1, 0, 0, 0, 0, 0, 0, 1, 0, 0, 0, 0, 1, 0, 0, 0, 0, 0, 0, 0, 0, 0, 1, 0, 0, 0, 0, 0, 0, 0, 1, 0, 0, 0, 1, 0, 1, 1, 0, 0, 0, 0, 0, 0, 0, 0, 0, 0, 1, 0, 0, 0, 0, 0, 0, 0, 0, 1, 0, 0, 0, 0, 1, 0, 0, 0, 0, 0, 0, 0, 0, 0, 0, 0, 1, 0, 0, 0, 0, 0, 0, 1, 0, 1, 0, 0, 0, 0, 0, 1, 0, 0, 0, 0, 0, 1, 0, 0, 0, 0, 1, 0, 0, 1, 1, 0, 0, 0, 0, 0, 0, 0, 0, 0, 0, 0, 0, 1, 1, 0, 1, 0, 0, 0, 0, 0, 0, 0, 0, 1, 1, 0, 0, 0, 0, 0, 0, 1, 0, 1, 0, 0, 0, 0, 0, 0, 0, 0, 1, 1], [0, 0, 0, 0, 1, 0, 0, 0, 0, 0, 1, 0, 0, 0, 0, 0, 1, 0, 0, 0, 0, 0, 0, 0, 0, 0, 0, 1, 0, 0, 1, 0, 0, 0, 0, 0, 0, 0, 1, 0, 1, 0, 0, 0, 0, 0, 0, 0, 0, 0, 0, 0, 0, 0, 0, 0, 1, 0, 0, 0, 0, 0, 0, 0, 0, 0, 1, 0, 0, 0, 0, 0, 0, 0, 0, 1, 0, 0, 0, 1, 1, 1, 0, 0, 0, 0, 0, 0, 0, 0, 0, 0, 0, 0, 0, 0, 0, 0, 0, 0, 0, 0, 0, 0, 0, 0, 1, 0, 0, 1, 1, 0, 0, 0, 1, 0, 0, 0, 0, 0, 0, 0, 0, 0, 0, 0, 0, 0, 0, 0, 1, 0, 0, 0, 1, 1, 0, 0, 0, 1, 1, 0, 1, 0, 1, 0, 0, 1, 0, 1, 0, 0, 0, 0, 0, 0, 0, 0, 0, 0, 1, 1, 0, 0, 0, 1, 1, 0, 1, 0, 0, 0, 1, 0, 0, 0, 1, 0, 0, 0, 0, 0, 0, 0, 1, 0, 0, 0, 0, 0, 0, 0, 0, 1, 0, 0, 0, 0, 1, 0, 0, 0, 1, 0, 0, 1, 0, 1, 0, 0, 0, 0, 0, 0, 1, 0, 1, 0, 0, 0, 0, 0, 0, 0, 0, 0, 0, 1, 0, 0], [0, 0, 0, 0, 0, 0, 1, 0, 0, 0, 0, 1, 0, 0, 0, 0, 0, 0, 1, 1, 0, 0, 0, 1, 0, 1, 0, 1, 1, 1, 0, 0, 0, 1, 0, 0, 0, 0, 0, 0, 0, 0, 0, 1, 1, 0, 1, 0, 0, 0, 0, 0, 0, 0, 0, 0, 0, 0, 0, 0, 0, 0, 0, 0, 1, 0, 0, 1, 0, 0, 1, 0, 0, 1, 0, 0, 0, 0, 0, 0, 1, 1, 0, 0, 0, 0, 0, 0, 0, 0, 0, 0, 0, 1, 0, 0, 0, 0, 0, 0, 0, 0, 0, 0, 0, 0, 0, 1, 0, 0, 1, 0, 0, 1, 0, 0, 0, 0, 0, 0, 0, 0, 0, 0, 0, 0, 0, 0, 0, 0, 1, 0, 0, 0, 0, 0, 0, 0, 0, 0, 0, 0, 0, 1, 0, 0, 0, 0, 0, 1, 1, 0, 0, 0, 0, 0, 0, 0, 0, 0, 0, 1, 0, 0, 0, 0, 0, 0, 0, 0, 0, 0, 0, 0, 1, 0, 0, 0, 0, 0, 0, 1, 0, 0, 1, 0, 0, 0, 1, 0, 0, 1, 0, 0, 0, 0, 0, 0, 1, 0, 0, 1, 0, 0, 0, 0, 0, 0, 0, 1, 0, 1, 0, 0, 0, 0, 0, 0, 1, 0, 0, 1, 0, 1, 0, 1, 1, 0, 0, 0], [1, 1, 0, 0, 0, 0, 0, 0, 0, 1, 0, 0, 1, 1, 0, 0, 0, 1, 1, 0, 0, 0, 0, 0, 0, 0, 0, 1, 0, 0, 0, 0, 0, 0, 0, 0, 1, 0, 0, 0, 0, 0, 1, 0, 0, 0, 0, 0, 1, 0, 0, 0, 0, 0, 0, 0, 0, 0, 1, 0, 0, 0, 0, 0, 0, 0, 0, 0, 0, 0, 0, 0, 0, 0, 0, 0, 0, 0, 0, 0, 1, 0, 0, 0, 1, 0, 1, 0, 0, 0, 1, 1, 0, 0, 0, 1, 1, 1, 0, 1, 0, 0, 0, 0, 0, 0, 0, 0, 0, 0, 1, 0, 0, 0, 0, 1, 0, 0, 0, 1, 0, 1, 0, 0, 0, 0, 0, 0, 0, 0, 0, 0, 0, 1, 0, 0, 0, 0, 0, 1, 0, 0, 1, 0, 0, 1, 0, 0, 0, 1, 0, 0, 0, 0, 0, 0, 0, 0, 0, 0, 0, 1, 0, 0, 0, 0, 0, 0, 0, 0, 1, 1, 0, 0, 0, 1, 0, 0, 0, 0, 0, 0, 0, 1, 1, 0, 0, 1, 0, 0, 0, 0, 0, 0, 1, 0, 1, 0, 1, 0, 0, 0, 0, 0, 0, 0, 1, 0, 1, 0, 0, 0, 0, 0, 1, 0, 0, 0, 0, 0, 0, 0, 0, 0, 0, 0, 0, 0, 0, 0], [0, 0, 1, 1, 0, 0, 0, 0, 0, 0, 0, 0, 0, 0, 0, 0, 0, 0, 1, 0, 0, 1, 0, 0, 0, 0, 0, 0, 0, 0, 0, 0, 0, 0, 0, 0, 0, 0, 0, 0, 0, 0, 0, 0, 0, 0, 0, 1, 0, 1, 0, 0, 0, 0, 0, 0, 0, 0, 0, 0, 0, 0, 0, 0, 0, 0, 0, 0, 0, 0, 0, 1, 1, 1, 1, 1, 0, 0, 0, 0, 1, 0, 1, 0, 0, 0, 0, 0, 0, 0, 0, 0, 0, 1, 0, 0, 0, 0, 0, 0, 1, 0, 0, 1, 0, 0, 0, 0, 0, 0, 0, 0, 1, 0, 1, 0, 0, 0, 0, 0, 0, 0, 1, 0, 0, 0, 0, 0, 0, 0, 0, 0, 0, 0, 0, 0, 0, 1, 0, 1, 0, 0, 1, 0, 0, 0, 0, 0, 0, 0, 0, 0, 0, 1, 0, 0, 1, 0, 1, 0, 0, 1, 0, 0, 1, 0, 0, 1, 0, 0, 0, 0, 0, 0, 0, 1, 0, 0, 0, 0, 0, 0, 1, 1, 1, 1, 0, 0, 0, 1, 0, 0, 0, 0, 0, 0, 0, 1, 1, 0, 1, 0, 0, 0, 0, 0, 0, 0, 0, 0, 0, 0, 1, 1, 0, 0, 0, 0, 0, 1, 0, 0, 1, 0, 0, 0, 1, 0, 0, 0], [0, 0, 0, 0, 0, 0, 0, 0, 1, 0, 0, 0, 0, 0, 0, 0, 0, 0, 1, 0, 0, 0, 0, 0, 0, 0, 0, 0, 0, 0, 0, 0, 0, 0, 0, 0, 0, 0, 0, 0, 1, 0, 0, 0, 0, 0, 0, 0, 0, 0, 1, 1, 0, 1, 1, 1, 0, 1, 0, 1, 1, 1, 0, 0, 0, 1, 0, 0, 0, 0, 0, 0, 1, 0, 0, 0, 0, 0, 0, 0, 0, 0, 0, 1, 0, 1, 0, 0, 1, 1, 0, 0, 0, 0, 0, 0, 0, 0, 1, 0, 0, 0, 0, 0, 0, 0, 0, 0, 0, 0, 1, 0, 0, 1, 1, 0, 0, 0, 0, 0, 0, 0, 0, 0, 1, 0, 0, 0, 0, 0, 0, 1, 0, 0, 0, 0, 1, 0, 0, 1, 0, 0, 1, 0, 0, 0, 0, 0, 1, 1, 1, 0, 0, 0, 0, 1, 0, 0, 0, 1, 0, 1, 0, 0, 0, 0, 0, 0, 0, 0, 0, 0, 0, 1, 0, 0, 0, 0, 0, 0, 0, 0, 0, 1, 1, 0, 0, 0, 0, 0, 1, 0, 1, 1, 0, 0, 0, 0, 0, 1, 0, 0, 0, 0, 0, 1, 0, 0, 0, 1, 0, 0, 0, 0, 0, 0, 0, 0, 0, 0, 1, 0, 0, 0, 0, 0, 0, 0, 0, 0], [0, 0, 0, 0, 0, 1, 0, 0, 0, 0, 0, 0, 0, 0, 0, 0, 0, 0, 1, 0, 0, 0, 0, 0, 0, 0, 1, 1, 0, 0, 0, 0, 0, 0, 0, 0, 0, 0, 0, 1, 1, 0, 0, 0, 0, 0, 0, 0, 0, 0, 0, 0, 1, 0, 0, 0, 0, 0, 0, 0, 0, 0, 1, 0, 0, 0, 0, 0, 0, 0, 0, 0, 0, 1, 0, 1, 0, 0, 0, 0, 1, 0, 0, 0, 0, 0, 0, 0, 0, 0, 0, 0, 0, 1, 0, 0, 0, 0, 0, 0, 0, 0, 0, 0, 0, 1, 0, 0, 0, 0, 0, 0, 1, 0, 1, 0, 0, 0, 0, 0, 1, 0, 0, 1, 0, 1, 1, 0, 0, 0, 0, 0, 1, 0, 1, 0, 0, 0, 0, 1, 0, 1, 1, 0, 0, 0, 1, 0, 0, 0, 0, 0, 0, 0, 0, 0, 0, 1, 0, 1, 0, 1, 0, 0, 0, 0, 0, 0, 0, 0, 0, 0, 1, 0, 0, 1, 0, 1, 0, 1, 0, 0, 0, 1, 1, 0, 1, 0, 0, 0, 0, 0, 0, 0, 0, 0, 0, 0, 1, 0, 0, 0, 0, 1, 0, 1, 0, 1, 0, 0, 0, 0, 0, 0, 0, 1, 1, 0, 0, 0, 0, 0, 0, 0, 1, 0, 0, 0, 0, 0]]\n"
     ]
    }
   ],
   "source": [
    "tdmatrix = [] # Inicializamos una lista para almacenar la matriz de términos-documentos\n",
    "for i in range(0,len(datos)): # Iteramos sobre cada documento en datos\n",
    "    doc = tdtransform(text=datos[i]['text']) # Transforma el documento en un vextor binario usando la función tdtransform\n",
    "    tdmatrix.append(doc)# Agrega el vector binario a una matriz de términos-documentos\n",
    "print(tdmatrix)# Imprime la matriz de términos-documentos"
   ]
  },
  {
   "cell_type": "markdown",
   "id": "a0abcd20f7bb7c44",
   "metadata": {},
   "source": [
    "## Paso 3: Obtener una representación de una _query_ en el espacio término-documento\n",
    "Ahora vamos a representar una _query_ como un vector en el mismo espacio de términos que hicimos para el corpus."
   ]
  },
  {
   "cell_type": "code",
   "execution_count": 52,
   "id": "f4abdc2c22664498",
   "metadata": {
    "ExecuteTime": {
     "end_time": "2024-10-22T13:01:09.239680Z",
     "start_time": "2024-10-22T13:01:09.223561Z"
    },
    "tags": []
   },
   "outputs": [
    {
     "name": "stdout",
     "output_type": "stream",
     "text": [
      "[0, 0, 0, 0, 0, 0, 0, 0, 0, 0, 0, 0, 0, 0, 0, 0, 0, 0, 0, 0, 0, 0, 0, 0, 0, 0, 0, 0, 0, 0, 0, 0, 0, 0, 0, 0, 0, 0, 0, 0, 0, 0, 0, 0, 0, 0, 0, 0, 0, 0, 0, 0, 0, 0, 0, 0, 0, 0, 0, 0, 0, 0, 0, 0, 0, 0, 0, 0, 0, 0, 0, 0, 0, 0, 0, 0, 0, 0, 0, 0, 0, 0, 0, 0, 0, 0, 0, 0, 0, 0, 0, 0, 0, 0, 0, 0, 0, 0, 0, 0, 0, 0, 0, 0, 0, 0, 0, 0, 0, 0, 0, 0, 0, 0, 1, 0, 0, 0, 0, 0, 0, 0, 0, 0, 0, 0, 0, 0, 0, 0, 0, 0, 0, 0, 0, 0, 0, 0, 0, 0, 0, 0, 0, 0, 0, 0, 0, 0, 0, 0, 0, 0, 0, 0, 0, 0, 0, 0, 0, 0, 0, 0, 0, 0, 0, 0, 0, 0, 0, 0, 0, 0, 0, 0, 0, 0, 0, 1, 0, 0, 0, 0, 0, 0, 0, 0, 0, 0, 0, 0, 0, 0, 0, 0, 0, 0, 0, 1, 0, 0, 0, 0, 0, 0, 0, 0, 0, 0, 0, 0, 0, 0, 0, 0, 0, 0, 0, 0, 0, 1, 0, 0, 0, 0, 0, 0, 0, 0, 0, 0]\n"
     ]
    },
    {
     "data": {
      "text/plain": [
       "230"
      ]
     },
     "execution_count": 52,
     "metadata": {},
     "output_type": "execute_result"
    }
   ],
   "source": [
    "query = \"inteligencia artificial en medicina\" #Definimos el query\n",
    "print(tdtransform(query))# Transforma e imprime la query en un vector binario utilizando la función tdtransform\n",
    "len(tdtransform(query))# Imprime la longitud del vector"
   ]
  },
  {
   "cell_type": "markdown",
   "id": "49b612552e0a24cb",
   "metadata": {
    "tags": []
   },
   "source": [
    "## Paso 4: Calcular la distancia entre la _query_ y todos los documentos del corpus\n",
    "Al obtener la distancia Jaccard entre la _query_ y cada documento del corpus, calculamos la relevancia que tiene cada documento para la _query_ "
   ]
  },
  {
   "cell_type": "code",
   "execution_count": 54,
   "id": "b60c6b18c45dcb83",
   "metadata": {},
   "outputs": [],
   "source": [
    "def jaccard_distancia(query, doc): #función para calcular la distancia de Jaccard entre dos vectores binarios.\n",
    "    interseccion = 0 # Contador para la intersección de conjuntos\n",
    "    union=0 # Contador para la unión de conjuntos\n",
    "    for i in range(len(query)): # Iteración sobre los elementos de los vectores\n",
    "        if query[i] == 1 and doc[i] == 1: #Comparamos cada elemento de la query y el documento y realizamos la intersección\n",
    "            interseccion+=1 #Sumamos 1 por cada vez que exista la intersección\n",
    "        if query[i] == 1 or doc[i] == 1:#Comparamos cada elemento de la query y el documento y realizamos la unión\n",
    "            union+=1 #Sumamos 1 por cada vez que exista la unión\n",
    "            \n",
    "    if union == 0: #Verificamos si la unión es igual a 0 para evitar división para cer\n",
    "        return 0\n",
    "    return interseccion / union # Devolvemos la división de la intersección e unión"
   ]
  },
  {
   "cell_type": "markdown",
   "id": "396ed3d1-3342-4624-965b-4546c6732489",
   "metadata": {},
   "source": [
    "Uso de la funcion jaccard_distanci"
   ]
  },
  {
   "cell_type": "code",
   "execution_count": 56,
   "id": "f1f7abb0-c1c9-4601-9db0-bb615168f849",
   "metadata": {
    "tags": []
   },
   "outputs": [],
   "source": [
    "query = \"inteligencia artificial en medicina\"\n",
    "query_vector = tdtransform(query) # Transformamos la query en vector binario\n",
    "\n",
    "distancias = [] # Inicializamos una lista para almacenar las distancias Jaccard\n",
    "for i, doc_vector in enumerate(tdmatrix):\n",
    "    distancia = jaccard_distancia(query_vector, doc_vector)# Calcular distancia Jaccard entre la query y cada documento y la almacenamos en distancia\n",
    "    distancias.append((i, distancia)) #Guardamos el indice del documentos y la distancia jaccard con el query en distancias"
   ]
  },
  {
   "cell_type": "markdown",
   "id": "3173b4cbd523e996",
   "metadata": {},
   "source": [
    "## Paso 5: Entregar los resultados de la búsqueda al usuario\n",
    "A partir de la _query_, debemos indicar al usuario cuáles documentos son los más relevantes. Se debe presentar la información en orden de relevancia."
   ]
  },
  {
   "cell_type": "code",
   "execution_count": 221,
   "id": "a42b03b1bb879635",
   "metadata": {},
   "outputs": [
    {
     "name": "stdout",
     "output_type": "stream",
     "text": [
      "Documentos ordenados por relevancia:\n",
      "Orden de relevancia: 1\n",
      "Documento 6: Distancia de Jaccard = 0.06977\n",
      "La ciencia ficción es uno de los géneros literarios más populares, explorando temas como el viaje en el tiempo, la inteligencia artificial y la vida en otros planetas. Este género no solo entretiene, sino que también invita a reflexionar sobre el futuro de la humanidad y las implicaciones de los avances tecnológicos.\n",
      "--------------------------------------------------\n",
      "Orden de relevancia: 2\n",
      "Documento 2: Distancia de Jaccard = 0.06667\n",
      "El desarrollo de videojuegos ha alcanzado un nuevo nivel con tecnologías como la realidad aumentada y la inteligencia artificial. Los jugadores ahora pueden interactuar en mundos virtuales más inmersivos. Este crecimiento también impulsa el mercado de los e-sports, donde las competencias profesionales atraen a millones de espectadores en todo el mundo.\n",
      "--------------------------------------------------\n",
      "Orden de relevancia: 3\n",
      "Documento 1: Distancia de Jaccard = 0.06383\n",
      "La inteligencia artificial continúa avanzando rápidamente, transformando sectores como la salud y las finanzas. Las empresas están adoptando algoritmos de aprendizaje automático para mejorar la eficiencia. Sin embargo, el desafío principal sigue siendo garantizar que las decisiones basadas en datos sean justas y no perpetúen sesgos. La ética es fundamental en este contexto.\n",
      "--------------------------------------------------\n",
      "Orden de relevancia: 4\n",
      "Documento 8: Distancia de Jaccard = 0.04545\n",
      "Los avances en la medicina están cambiando la forma en que se diagnostican y tratan las enfermedades. Desde la telemedicina hasta los dispositivos portátiles que monitorean la salud en tiempo real, la tecnología está permitiendo a los médicos ofrecer cuidados más personalizados. El futuro de la medicina es prometedor, con tratamientos más accesibles y eficaces.\n",
      "--------------------------------------------------\n",
      "Orden de relevancia: 5\n",
      "Documento 3: Distancia de Jaccard = 0.02222\n",
      "El comercio electrónico ha cambiado la forma en que compramos. Con la creciente demanda de compras en línea, las empresas están optimizando sus plataformas digitales para ofrecer mejores experiencias de usuario. Desde recomendaciones personalizadas hasta pagos rápidos, los avances en tecnología siguen facilitando las transacciones diarias de los consumidores.\n",
      "--------------------------------------------------\n",
      "Orden de relevancia: 6\n",
      "Documento 7: Distancia de Jaccard = 0.02174\n",
      "El desarrollo personal se ha convertido en una prioridad para muchas personas que buscan mejorar su calidad de vida. Desde la adopción de hábitos saludables hasta el aprendizaje de nuevas habilidades, el enfoque en el crecimiento individual ha llevado a un aumento en la demanda de libros, cursos y aplicaciones que promueven el bienestar integral.\n",
      "--------------------------------------------------\n",
      "Orden de relevancia: 7\n",
      "Documento 4: Distancia de Jaccard = 0.00000\n",
      "La educación a distancia ha permitido a millones de estudiantes acceder a programas de calidad sin importar su ubicación. La flexibilidad es uno de los mayores beneficios, especialmente para aquellos con trabajos a tiempo completo. Aunque la falta de interacción presencial es un reto, las herramientas digitales siguen mejorando la experiencia educativa.\n",
      "--------------------------------------------------\n",
      "Orden de relevancia: 8\n",
      "Documento 5: Distancia de Jaccard = 0.00000\n",
      "El cine ha evolucionado con los años, incorporando efectos visuales cada vez más realistas. Las producciones cinematográficas utilizan tecnologías avanzadas para crear escenas que desafían la realidad. Además, el acceso a plataformas de streaming ha transformado cómo y cuándo el público consume contenido, democratizando el acceso a películas y series.\n",
      "--------------------------------------------------\n"
     ]
    }
   ],
   "source": [
    "# Ordenar los documentos por relevancia (mayor distancia = mayor relevancia)\n",
    "distancias.sort(key=lambda x: x[1], reverse=True)#Utilizamos sort para crear una lista ordenada sin crear otra, usamos lambda para poder tomar el valor de la tupla que se va a ordenar, finarlmente utilizamos reverse para invertir el orden\n",
    "f=0;\n",
    "# Mostrar documentos más relevantes en orden\n",
    "print(\"Documentos ordenados por relevancia:\")\n",
    "for doc, distancia in distancias:# Iteramos sobre la lista ordenada de distancias\n",
    "    f+=1;\n",
    "    print(f\"Orden de relevancia: {f}\")\n",
    "    print(f\"Documento {doc + 1}: Distancia de Jaccard = {distancia:.5f}\") # Imprimimos el índice del documento mas 1 junto con su distancia jaccard\n",
    "    print(datos[doc]['text']) # Mostramos el texto del documento correspondiente\n",
    "    print(\"-\" * 50)# Imprimimos una línea para claridad visual"
   ]
  },
  {
   "cell_type": "code",
   "execution_count": null,
   "id": "ff1daff7-6d5b-4927-8101-86d8164cd15c",
   "metadata": {},
   "outputs": [],
   "source": []
  }
 ],
 "metadata": {
  "kernelspec": {
   "display_name": "Python 3 (ipykernel)",
   "language": "python",
   "name": "python3"
  },
  "language_info": {
   "codemirror_mode": {
    "name": "ipython",
    "version": 3
   },
   "file_extension": ".py",
   "mimetype": "text/x-python",
   "name": "python",
   "nbconvert_exporter": "python",
   "pygments_lexer": "ipython3",
   "version": "3.11.7"
  }
 },
 "nbformat": 4,
 "nbformat_minor": 5
}
